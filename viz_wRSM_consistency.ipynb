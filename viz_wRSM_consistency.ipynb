{
 "cells": [
  {
   "cell_type": "code",
   "execution_count": 1,
   "metadata": {},
   "outputs": [
    {
     "name": "stderr",
     "output_type": "stream",
     "text": [
      "Using TensorFlow backend.\n"
     ]
    },
    {
     "data": {
      "application/javascript": [
       "IPython.notebook.set_autosave_interval(5000)"
      ]
     },
     "metadata": {},
     "output_type": "display_data"
    },
    {
     "name": "stdout",
     "output_type": "stream",
     "text": [
      "Autosaving every 5 seconds\n"
     ]
    }
   ],
   "source": [
    "\"\"\"check the consistency of wRSM across subjects\n",
    "\"\"\"\n",
    "import os\n",
    "import sys \n",
    "import numpy as np\n",
    "import pandas as pd \n",
    "from sklearn.model_selection import train_test_split\n",
    "\n",
    "import matplotlib\n",
    "import matplotlib.pyplot as plt \n",
    "import seaborn as sns \n",
    "\n",
    "from qmvpa import utils, factor, rsa\n",
    "from data_loader import load_cifar, load_mnist\n",
    "from dep.utils import subset_units\n",
    "from config import get_log_info\n",
    "\n",
    "%matplotlib inline \n",
    "%autosave 5\n",
    "\n",
    "sns.set(style = 'white', context='poster', font_scale=1, rc={\"lines.linewidth\": 2.5})"
   ]
  },
  {
   "cell_type": "code",
   "execution_count": 2,
   "metadata": {},
   "outputs": [
    {
     "name": "stdout",
     "output_type": "stream",
     "text": [
      "data: cifar100\n",
      "model: resnet18\n",
      "log epochs [  0   1   2   3   5   8  13  22  36  60 100]\n",
      "layer selected [2, 10, 17, 25, 32, 40, 47, 55, 62]\n"
     ]
    }
   ],
   "source": [
    "# get roots \n",
    "log_root = '/tigress/qlu/logs/keras-resnet/log'\n",
    "plt_root = '/tigress/qlu/logs/keras-resnet/plots'\n",
    "pltdata_root = '/tigress/qlu/logs/keras-resnet/plots_data'\n",
    "\n",
    "# define data name, model name \n",
    "data_name = 'cifar100'\n",
    "model_name = 'resnet18'\n",
    "# model_name = 'conv'\n",
    "\n",
    "# load data \n",
    "_, _, _, _, _, labels, data_info = load_cifar(data_name)\n",
    "[n_classes, img_rows, img_cols, img_channels] = data_info\n",
    "n_test_egs = len(labels)\n",
    "\n",
    "# define params \n",
    "log_info_list = get_log_info(data_name, model_name)\n",
    "n_subjs, layer_selected, n_layers, log_epochs, n_log_epochs = log_info_list\n",
    "\n",
    "print('data: %s\\nmodel: %s' % (data_name, model_name))\n",
    "print('log epochs', log_epochs)\n",
    "print('layer selected', layer_selected)\n",
    "\n",
    "# set relevant parameters \n",
    "n_max_units = 1000\n",
    "test_size = .2 \n",
    "\n",
    "if model_name == 'conv': \n",
    "    layer_selected = layer_selected[:-1]"
   ]
  },
  {
   "cell_type": "code",
   "execution_count": 3,
   "metadata": {},
   "outputs": [],
   "source": [
    "def compute_2nd_order_corrs(wRSMs_n): \n",
    "    n_subjs = np.shape(wRSMs_n)[0]\n",
    "    # from itertools import product\n",
    "    corr_map = np.zeros((n_subjs, n_subjs))\n",
    "    pval_map = np.zeros((n_subjs, n_subjs))\n",
    "    wRSMs_2nd_order_corrs = []\n",
    "    wRSMs_2nd_order_corrs_ps = []\n",
    "    for i in range(n_subjs): \n",
    "        for j in np.arange(i+1, n_subjs, 1): \n",
    "            corr_map[i,j], pval_map[i,j] = rsa.correlate_2RSMs(wRSMs_n[i], wRSMs_n[j])\n",
    "            wRSMs_2nd_order_corrs.append(corr_map[i,j])\n",
    "            wRSMs_2nd_order_corrs_ps.append(pval_map[i,j])\n",
    "    return corr_map, pval_map, wRSMs_2nd_order_corrs, wRSMs_2nd_order_corrs_ps"
   ]
  },
  {
   "cell_type": "code",
   "execution_count": 4,
   "metadata": {},
   "outputs": [],
   "source": [
    "# init df \n",
    "col_names = ['2nd_order_corr', 'epoch', 'layer_id']\n",
    "df = pd.DataFrame(columns=col_names) \n",
    "\n",
    "# choose layer and epoch \n",
    "e = 21\n",
    "l = 13\n",
    "for e in log_epochs: \n",
    "    for l in layer_selected:\n",
    "#         print('Epoch %d, Layer %d' % (e, l))\n",
    "        # load data for all subjects \n",
    "        Xs_train = []\n",
    "        Xs_test = []\n",
    "        for subj_id in range(n_subjs):\n",
    "            # activation log dir \n",
    "            log_dir = os.path.join(log_root, data_name, model_name, 'subj%.2d' % (subj_id))\n",
    "            acts_path = os.path.join(log_dir, 'epoch_%.3d' % e, 'activations')\n",
    "            acts_path_l = os.path.join(acts_path, 'layer_%.3d.npy' % (l))\n",
    "\n",
    "            # load activity \n",
    "            loaded_acts = np.load(acts_path_l)\n",
    "            loaded_acts = np.reshape(loaded_acts, [n_test_egs, -1])\n",
    "\n",
    "            # subset units for computational efficiency \n",
    "            n_units = np.shape(loaded_acts)[1]\n",
    "            if n_units > n_max_units: \n",
    "                loaded_acts = subset_units(loaded_acts, n_max_units)\n",
    "\n",
    "            # split to training and testing set \n",
    "            X = loaded_acts\n",
    "            _, X_test, _, y_test = train_test_split(\n",
    "                X, labels, test_size = test_size, stratify = labels, random_state=0\n",
    "            )\n",
    "            y_test_id = np.argsort(np.ravel(y_test))\n",
    "            y_test = y_test[y_test_id]\n",
    "            X_test = X_test[y_test_id,: ]    \n",
    "            # gather data \n",
    "            Xs_test.append(X_test.T)\n",
    "\n",
    "        # compute the RDM in the native space \n",
    "        wRSMs_n = rsa.within_RSMs(Xs_test)\n",
    "        wRSM_n = np.mean(wRSMs_n, axis = 0)\n",
    "        _,_, corr_vec, pval_vec = compute_2nd_order_corrs(wRSMs_n)\n",
    "\n",
    "        # add new data \n",
    "        df_ = pd.DataFrame(\n",
    "            np.stack([corr_vec, [int(e)] * len(corr_vec), [int(l)] * len(corr_vec)]).T, \n",
    "            columns=col_names\n",
    "        )\n",
    "        df = pd.concat([df, df_])"
   ]
  },
  {
   "cell_type": "code",
   "execution_count": 5,
   "metadata": {},
   "outputs": [
    {
     "data": {
      "image/png": "[encoded data removed]",
      "text/plain": [
       "<Figure size 360x144 with 1 Axes>"
      ]
     },
     "metadata": {},
     "output_type": "display_data"
    }
   ],
   "source": [
    "df_last_epoch = df[df['epoch'] == log_epochs[-1]]\n",
    "# df_last_epoch.head()\n",
    "x_name = 'layer_id'\n",
    "y_name = '2nd_order_corr'\n",
    "b_pals = sns.color_palette(\"Blues\", n_colors = n_layers)\n",
    "\n",
    "f, ax = plt.subplots(1,1, figsize = (5, 2))\n",
    "\n",
    "sns.barplot(\n",
    "    x=x_name, y=y_name, \n",
    "    palette = b_pals, \n",
    "    data=df_last_epoch, ax=ax\n",
    ")\n",
    "ax.set_ylim([0, 1])\n",
    "ax.set_yticks([0, 1])\n",
    "ax.set_yticklabels([0, 1])\n",
    "ax.set_ylabel('Consistency')\n",
    "ax.set_xlabel('Layer depth')\n",
    "ax.set_xticks([])\n",
    "sns.despine()\n",
    "\n",
    "temp_path = '/tigress/qlu/logs/temp/'\n",
    "fname = 'wRSM_2r_%s_%s_s.png' % (model_name, data_name)\n",
    "f.savefig(os.path.join(temp_path, fname),  bbox_inches='tight', dpi = 200)"
   ]
  },
  {
   "cell_type": "code",
   "execution_count": null,
   "metadata": {},
   "outputs": [],
   "source": []
  }
 ],
 "metadata": {
  "kernelspec": {
   "display_name": "Python 3",
   "language": "python",
   "name": "python3"
  },
  "language_info": {
   "codemirror_mode": {
    "name": "ipython",
    "version": 3
   },
   "file_extension": ".py",
   "mimetype": "text/x-python",
   "name": "python",
   "nbconvert_exporter": "python",
   "pygments_lexer": "ipython3",
   "version": "3.6.8"
  }
 },
 "nbformat": 4,
 "nbformat_minor": 2
}
