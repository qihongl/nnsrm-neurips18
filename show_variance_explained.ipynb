{
 "cells": [
  {
   "cell_type": "code",
   "execution_count": 8,
   "metadata": {},
   "outputs": [
    {
     "data": {
      "application/javascript": [
       "IPython.notebook.set_autosave_interval(5000)"
      ]
     },
     "metadata": {},
     "output_type": "display_data"
    },
    {
     "name": "stdout",
     "output_type": "stream",
     "text": [
      "Autosaving every 5 seconds\n"
     ]
    }
   ],
   "source": [
    "import os\n",
    "import sys \n",
    "import numpy as np\n",
    "import pandas as pd\n",
    "from itertools import product\n",
    "from sklearn.model_selection import train_test_split\n",
    "import matplotlib.pyplot as plt \n",
    "import seaborn as sns \n",
    "\n",
    "from qmvpa import utils, factor, rsa\n",
    "from data_loader_local import load_data\n",
    "from dep.utils import subset_units\n",
    "from config import get_log_info\n",
    "\n",
    "from matplotlib.ticker import FormatStrFormatter\n",
    "\n",
    "%matplotlib inline \n",
    "%autosave 5\n",
    "sns.set(style = 'white', context='poster', font_scale=1, rc={\"lines.linewidth\": 2})"
   ]
  },
  {
   "cell_type": "code",
   "execution_count": 9,
   "metadata": {},
   "outputs": [
    {
     "name": "stdout",
     "output_type": "stream",
     "text": [
      "log epochs [  0   1   2   3   5   8  13  22  36  60 100]\n",
      "layer selected [2, 10, 17, 25, 32, 40, 47, 55, 62]\n"
     ]
    }
   ],
   "source": [
    "# get roots \n",
    "log_root = '/tigress/qlu/logs/keras-resnet/log'\n",
    "plt_root = '/tigress/qlu/logs/keras-resnet/plots'\n",
    "pltdata_root = '/tigress/qlu/logs/keras-resnet/plots_data'\n",
    "\n",
    "# define data name, model name \n",
    "data_name = 'cifar100'\n",
    "model_name = 'resnet18'\n",
    "\n",
    "# load data \n",
    "_, _, _, _, _, labels, data_info = load_data(data_name)\n",
    "[n_classes, img_rows, img_cols, img_channels] = data_info\n",
    "n_test_egs = len(labels)\n",
    "\n",
    "# define params \n",
    "log_info_list = get_log_info(data_name, model_name)\n",
    "n_subjs, layer_selected, n_layers, log_epochs, n_log_epochs = log_info_list\n",
    "if model_name == 'conv': \n",
    "    layer_selected = layer_selected[:3]\n",
    "    n_layers -=1 \n",
    "    \n",
    "print('log epochs', log_epochs)\n",
    "print('layer selected', layer_selected)"
   ]
  },
  {
   "cell_type": "code",
   "execution_count": 10,
   "metadata": {},
   "outputs": [
    {
     "name": "stdout",
     "output_type": "stream",
     "text": [
      "Collected: layer = 2, epoch = 0\n",
      "Collected: layer = 2, epoch = 1\n",
      "Collected: layer = 2, epoch = 2\n",
      "Collected: layer = 2, epoch = 3\n",
      "Collected: layer = 2, epoch = 5\n",
      "Collected: layer = 2, epoch = 8\n",
      "Collected: layer = 2, epoch = 13\n",
      "Collected: layer = 2, epoch = 22\n",
      "Collected: layer = 2, epoch = 36\n",
      "Collected: layer = 2, epoch = 60\n",
      "Collected: layer = 2, epoch = 100\n",
      "Collected: layer = 10, epoch = 0\n",
      "Collected: layer = 10, epoch = 1\n",
      "Collected: layer = 10, epoch = 2\n",
      "Collected: layer = 10, epoch = 3\n",
      "Collected: layer = 10, epoch = 5\n",
      "Collected: layer = 10, epoch = 8\n",
      "Collected: layer = 10, epoch = 13\n",
      "Collected: layer = 10, epoch = 22\n",
      "Collected: layer = 10, epoch = 36\n",
      "Collected: layer = 10, epoch = 60\n",
      "Collected: layer = 10, epoch = 100\n",
      "Collected: layer = 17, epoch = 0\n",
      "Collected: layer = 17, epoch = 1\n",
      "Collected: layer = 17, epoch = 2\n",
      "Collected: layer = 17, epoch = 3\n",
      "Collected: layer = 17, epoch = 5\n",
      "Collected: layer = 17, epoch = 8\n",
      "Collected: layer = 17, epoch = 13\n",
      "Collected: layer = 17, epoch = 22\n",
      "Collected: layer = 17, epoch = 36\n",
      "Collected: layer = 17, epoch = 60\n",
      "Collected: layer = 17, epoch = 100\n",
      "Collected: layer = 25, epoch = 0\n",
      "Collected: layer = 25, epoch = 1\n",
      "Collected: layer = 25, epoch = 2\n",
      "Collected: layer = 25, epoch = 3\n",
      "Collected: layer = 25, epoch = 5\n",
      "Collected: layer = 25, epoch = 8\n",
      "Collected: layer = 25, epoch = 13\n",
      "Collected: layer = 25, epoch = 22\n",
      "Collected: layer = 25, epoch = 36\n",
      "Collected: layer = 25, epoch = 60\n",
      "Collected: layer = 25, epoch = 100\n",
      "Collected: layer = 32, epoch = 0\n",
      "Collected: layer = 32, epoch = 1\n",
      "Collected: layer = 32, epoch = 2\n",
      "Collected: layer = 32, epoch = 3\n",
      "Collected: layer = 32, epoch = 5\n",
      "Collected: layer = 32, epoch = 8\n",
      "Collected: layer = 32, epoch = 13\n",
      "Collected: layer = 32, epoch = 22\n",
      "Collected: layer = 32, epoch = 36\n",
      "Collected: layer = 32, epoch = 60\n",
      "Collected: layer = 32, epoch = 100\n",
      "Collected: layer = 40, epoch = 0\n",
      "Collected: layer = 40, epoch = 1\n",
      "Collected: layer = 40, epoch = 2\n",
      "Collected: layer = 40, epoch = 3\n",
      "Collected: layer = 40, epoch = 5\n",
      "Collected: layer = 40, epoch = 8\n",
      "Collected: layer = 40, epoch = 13\n",
      "Collected: layer = 40, epoch = 22\n",
      "Collected: layer = 40, epoch = 36\n",
      "Collected: layer = 40, epoch = 60\n",
      "Collected: layer = 40, epoch = 100\n",
      "Collected: layer = 47, epoch = 0\n",
      "Collected: layer = 47, epoch = 1\n",
      "Collected: layer = 47, epoch = 2\n",
      "Collected: layer = 47, epoch = 3\n",
      "Collected: layer = 47, epoch = 5\n",
      "Collected: layer = 47, epoch = 8\n",
      "Collected: layer = 47, epoch = 13\n",
      "Collected: layer = 47, epoch = 22\n",
      "Collected: layer = 47, epoch = 36\n",
      "Collected: layer = 47, epoch = 60\n",
      "Collected: layer = 47, epoch = 100\n",
      "Collected: layer = 55, epoch = 0\n",
      "Collected: layer = 55, epoch = 1\n",
      "Collected: layer = 55, epoch = 2\n",
      "Collected: layer = 55, epoch = 3\n",
      "Collected: layer = 55, epoch = 5\n",
      "Collected: layer = 55, epoch = 8\n",
      "Collected: layer = 55, epoch = 13\n",
      "Collected: layer = 55, epoch = 22\n",
      "Collected: layer = 55, epoch = 36\n",
      "Collected: layer = 55, epoch = 60\n",
      "Collected: layer = 55, epoch = 100\n",
      "Collected: layer = 62, epoch = 0\n",
      "Collected: layer = 62, epoch = 1\n",
      "Collected: layer = 62, epoch = 2\n",
      "Collected: layer = 62, epoch = 3\n",
      "Collected: layer = 62, epoch = 5\n",
      "Collected: layer = 62, epoch = 8\n",
      "Collected: layer = 62, epoch = 13\n",
      "Collected: layer = 62, epoch = 22\n",
      "Collected: layer = 62, epoch = 36\n",
      "Collected: layer = 62, epoch = 60\n",
      "Collected: layer = 62, epoch = 100\n"
     ]
    }
   ],
   "source": [
    "# init the big df \n",
    "column_names = ['var_exp', 'layer_id', 'epoch', 'netid']\n",
    "df_var_exp = pd.DataFrame(columns = column_names)\n",
    "\n",
    "# for each layer, look at the development \n",
    "# i_l, i_e = -2, -2\n",
    "# for (i_l, i_e) in product(range(2), range(2)):\n",
    "for (i_l, i_e) in product(range(n_layers), range(n_log_epochs)):\n",
    "    l, e = layer_selected[i_l], log_epochs[i_e]\n",
    "    # plot dir and plot data dir \n",
    "    plt_dir = os.path.join(\n",
    "        plt_root, data_name, model_name, \n",
    "        'epoch_%.3d' % e, 'rsa')    \n",
    "    pltdata_dir = os.path.join(\n",
    "        pltdata_root, data_name, model_name, \n",
    "        'epoch_%.3d' % e, 'rsa')\n",
    "    # RSA and SRM result path\n",
    "    srm_result_fname = 'srm_l%.2d.npy' % (l)\n",
    "    srm_result_path = os.path.join(pltdata_dir, srm_result_fname)\n",
    "    [Xs_test, Xs_test_s, y_test, \n",
    "     Ws, S, srmn_features, \n",
    "     var_exp_train, var_exp_test\n",
    "    ] = np.load(srm_result_path)\n",
    "    # calc var exp\n",
    "    Ss = [np.mean(Xs_test_s, axis = 0) for _ in range(n_subjs)]\n",
    "    var_exp_le = factor.calc_srm_var_exp(Xs_test, Ss, Ws)\n",
    "    # concate new df to the big df\n",
    "    data_temp = [\n",
    "        var_exp_le, \n",
    "        np.repeat(l, n_subjs), \n",
    "        np.repeat(e, n_subjs), \n",
    "        np.arange(n_subjs)\n",
    "    ]\n",
    "    df_temp = pd.DataFrame({\n",
    "        column_names[i]: data_temp[i] for i in range(len(column_names))\n",
    "    })\n",
    "    df_var_exp = pd.concat([df_var_exp, df_temp])\n",
    "    print('Collected: layer = %d, epoch = %d' % (l, e))"
   ]
  },
  {
   "cell_type": "code",
   "execution_count": 11,
   "metadata": {},
   "outputs": [
    {
     "name": "stdout",
     "output_type": "stream",
     "text": [
      "mean_var_exp_last_layer:  0.8480760715216973\n"
     ]
    },
    {
     "data": {
      "image/png": "[encoded data removed]",
      "text/plain": [
       "<Figure size 360x180 with 1 Axes>"
      ]
     },
     "metadata": {},
     "output_type": "display_data"
    }
   ],
   "source": [
    "\"\"\"plot the variance explained curve for the last layer\n",
    "\"\"\"\n",
    "var_sep = 'epoch'\n",
    "layer_plt = np.unique(df_var_exp[var_sep])\n",
    "epoch_plt = np.unique(df_var_exp['epoch'])\n",
    "last_epoch = epoch_plt[-1]\n",
    "\n",
    "n_layer_plt = len(layer_plt)\n",
    "cur_pal = sns.color_palette(\"Greens\", n_colors=4)\n",
    "b_pals = sns.color_palette(\"Blues\", n_colors = n_layers)\n",
    "\n",
    "df_var_exp_l_ = df_var_exp[df_var_exp['epoch'] == last_epoch]\n",
    "\n",
    "f, ax = plt.subplots(1,1, figsize = (5, 2.5))\n",
    "sns.barplot(\n",
    "    x = 'layer_id', y = 'var_exp', \n",
    "    ci = 95, \n",
    "    palette=b_pals, \n",
    "    color = cur_pal[-1], \n",
    "    data = df_var_exp_l_, \n",
    "    ax = ax\n",
    ")\n",
    "\n",
    "ax.set_title(\"model: %s, data: %s\" % (model_name, data_name))\n",
    "ax.set_ylim([0, 1])\n",
    "ax.set_yticks([0, 1])\n",
    "ax.set_yticklabels([0, 1])\n",
    "ax.set_ylabel('% var. exp.')\n",
    "ax.set_xlabel('Layer depth')\n",
    "ax.set_xticks([])\n",
    "sns.despine()\n",
    "f.tight_layout()\n",
    "\n",
    "\n",
    "# print var_exp for the last layer \n",
    "mean_var_exp_last_layer = np.mean(\n",
    "    df_var_exp_l_[df_var_exp_l_['layer_id'] == np.max(df_var_exp_l_['layer_id'])]['var_exp']\n",
    ")\n",
    "print('mean_var_exp_last_layer: ', mean_var_exp_last_layer)\n",
    "\n",
    "# save plot \n",
    "temp_path = '/tigress/qlu/logs/temp/'\n",
    "fname = 'varexp_b_%s_%s.png' % (model_name, data_name)\n",
    "f.savefig(os.path.join(temp_path, fname),  bbox_inches='tight', dpi = 200)"
   ]
  },
  {
   "cell_type": "code",
   "execution_count": null,
   "metadata": {},
   "outputs": [],
   "source": []
  }
 ],
 "metadata": {
  "kernelspec": {
   "display_name": "Python 3",
   "language": "python",
   "name": "python3"
  },
  "language_info": {
   "codemirror_mode": {
    "name": "ipython",
    "version": 3
   },
   "file_extension": ".py",
   "mimetype": "text/x-python",
   "name": "python",
   "nbconvert_exporter": "python",
   "pygments_lexer": "ipython3",
   "version": "3.6.8"
  }
 },
 "nbformat": 4,
 "nbformat_minor": 2
}
